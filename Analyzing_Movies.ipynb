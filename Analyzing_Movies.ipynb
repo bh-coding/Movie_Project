{
  "cells": [
    {
      "cell_type": "markdown",
      "metadata": {
        "id": "view-in-github",
        "colab_type": "text"
      },
      "source": [
        "<a href=\"https://colab.research.google.com/github/bh-coding/Movie_Project/blob/main/Analyzing_Movies.ipynb\" target=\"_parent\"><img src=\"https://colab.research.google.com/assets/colab-badge.svg\" alt=\"Open In Colab\"/></a>"
      ]
    },
    {
      "cell_type": "markdown",
      "metadata": {
        "id": "8CZEA21EksyD"
      },
      "source": [
        "# Fun With Movies\n",
        "\n",
        "The Internet Movie DataBase (imdb) has lots of great information we can use to practice pandas."
      ]
    },
    {
      "cell_type": "code",
      "execution_count": 1,
      "metadata": {
        "id": "8GoEtNGiksyF"
      },
      "outputs": [],
      "source": [
        "import pandas as pd\n",
        "import matplotlib.pyplot as plt\n",
        "import re\n",
        "import numpy as np"
      ]
    },
    {
      "cell_type": "markdown",
      "metadata": {
        "id": "NLaFG9DAksyH"
      },
      "source": [
        "### First, import imdb.txt into colab (use the folder symbol to the left)\n",
        "\n",
        "## Read in dataframe from .csv or .txt file"
      ]
    },
    {
      "cell_type": "code",
      "execution_count": 2,
      "metadata": {
        "colab": {
          "base_uri": "https://localhost:8080/",
          "height": 206
        },
        "id": "uXG3pUiFksyI",
        "outputId": "b8192daf-92a9-4f10-cc54-9c71e42f827e"
      },
      "outputs": [
        {
          "output_type": "execute_result",
          "data": {
            "text/plain": [
              "   star_rating                     title content_rating   genre  duration  \\\n",
              "0          9.3  The Shawshank Redemption              R   Crime       142   \n",
              "1          9.2             The Godfather              R   Crime       175   \n",
              "2          9.1    The Godfather: Part II              R   Crime       200   \n",
              "3          9.0           The Dark Knight          PG-13  Action       152   \n",
              "4          8.9              Pulp Fiction              R   Crime       154   \n",
              "\n",
              "                                         actors_list  \n",
              "0  [u'Tim Robbins', u'Morgan Freeman', u'Bob Gunt...  \n",
              "1    [u'Marlon Brando', u'Al Pacino', u'James Caan']  \n",
              "2  [u'Al Pacino', u'Robert De Niro', u'Robert Duv...  \n",
              "3  [u'Christian Bale', u'Heath Ledger', u'Aaron E...  \n",
              "4  [u'John Travolta', u'Uma Thurman', u'Samuel L....  "
            ],
            "text/html": [
              "\n",
              "  <div id=\"df-d3f101ef-499e-42f7-b84d-81a8618a036f\" class=\"colab-df-container\">\n",
              "    <div>\n",
              "<style scoped>\n",
              "    .dataframe tbody tr th:only-of-type {\n",
              "        vertical-align: middle;\n",
              "    }\n",
              "\n",
              "    .dataframe tbody tr th {\n",
              "        vertical-align: top;\n",
              "    }\n",
              "\n",
              "    .dataframe thead th {\n",
              "        text-align: right;\n",
              "    }\n",
              "</style>\n",
              "<table border=\"1\" class=\"dataframe\">\n",
              "  <thead>\n",
              "    <tr style=\"text-align: right;\">\n",
              "      <th></th>\n",
              "      <th>star_rating</th>\n",
              "      <th>title</th>\n",
              "      <th>content_rating</th>\n",
              "      <th>genre</th>\n",
              "      <th>duration</th>\n",
              "      <th>actors_list</th>\n",
              "    </tr>\n",
              "  </thead>\n",
              "  <tbody>\n",
              "    <tr>\n",
              "      <th>0</th>\n",
              "      <td>9.3</td>\n",
              "      <td>The Shawshank Redemption</td>\n",
              "      <td>R</td>\n",
              "      <td>Crime</td>\n",
              "      <td>142</td>\n",
              "      <td>[u'Tim Robbins', u'Morgan Freeman', u'Bob Gunt...</td>\n",
              "    </tr>\n",
              "    <tr>\n",
              "      <th>1</th>\n",
              "      <td>9.2</td>\n",
              "      <td>The Godfather</td>\n",
              "      <td>R</td>\n",
              "      <td>Crime</td>\n",
              "      <td>175</td>\n",
              "      <td>[u'Marlon Brando', u'Al Pacino', u'James Caan']</td>\n",
              "    </tr>\n",
              "    <tr>\n",
              "      <th>2</th>\n",
              "      <td>9.1</td>\n",
              "      <td>The Godfather: Part II</td>\n",
              "      <td>R</td>\n",
              "      <td>Crime</td>\n",
              "      <td>200</td>\n",
              "      <td>[u'Al Pacino', u'Robert De Niro', u'Robert Duv...</td>\n",
              "    </tr>\n",
              "    <tr>\n",
              "      <th>3</th>\n",
              "      <td>9.0</td>\n",
              "      <td>The Dark Knight</td>\n",
              "      <td>PG-13</td>\n",
              "      <td>Action</td>\n",
              "      <td>152</td>\n",
              "      <td>[u'Christian Bale', u'Heath Ledger', u'Aaron E...</td>\n",
              "    </tr>\n",
              "    <tr>\n",
              "      <th>4</th>\n",
              "      <td>8.9</td>\n",
              "      <td>Pulp Fiction</td>\n",
              "      <td>R</td>\n",
              "      <td>Crime</td>\n",
              "      <td>154</td>\n",
              "      <td>[u'John Travolta', u'Uma Thurman', u'Samuel L....</td>\n",
              "    </tr>\n",
              "  </tbody>\n",
              "</table>\n",
              "</div>\n",
              "    <div class=\"colab-df-buttons\">\n",
              "\n",
              "  <div class=\"colab-df-container\">\n",
              "    <button class=\"colab-df-convert\" onclick=\"convertToInteractive('df-d3f101ef-499e-42f7-b84d-81a8618a036f')\"\n",
              "            title=\"Convert this dataframe to an interactive table.\"\n",
              "            style=\"display:none;\">\n",
              "\n",
              "  <svg xmlns=\"http://www.w3.org/2000/svg\" height=\"24px\" viewBox=\"0 -960 960 960\">\n",
              "    <path d=\"M120-120v-720h720v720H120Zm60-500h600v-160H180v160Zm220 220h160v-160H400v160Zm0 220h160v-160H400v160ZM180-400h160v-160H180v160Zm440 0h160v-160H620v160ZM180-180h160v-160H180v160Zm440 0h160v-160H620v160Z\"/>\n",
              "  </svg>\n",
              "    </button>\n",
              "\n",
              "  <style>\n",
              "    .colab-df-container {\n",
              "      display:flex;\n",
              "      gap: 12px;\n",
              "    }\n",
              "\n",
              "    .colab-df-convert {\n",
              "      background-color: #E8F0FE;\n",
              "      border: none;\n",
              "      border-radius: 50%;\n",
              "      cursor: pointer;\n",
              "      display: none;\n",
              "      fill: #1967D2;\n",
              "      height: 32px;\n",
              "      padding: 0 0 0 0;\n",
              "      width: 32px;\n",
              "    }\n",
              "\n",
              "    .colab-df-convert:hover {\n",
              "      background-color: #E2EBFA;\n",
              "      box-shadow: 0px 1px 2px rgba(60, 64, 67, 0.3), 0px 1px 3px 1px rgba(60, 64, 67, 0.15);\n",
              "      fill: #174EA6;\n",
              "    }\n",
              "\n",
              "    .colab-df-buttons div {\n",
              "      margin-bottom: 4px;\n",
              "    }\n",
              "\n",
              "    [theme=dark] .colab-df-convert {\n",
              "      background-color: #3B4455;\n",
              "      fill: #D2E3FC;\n",
              "    }\n",
              "\n",
              "    [theme=dark] .colab-df-convert:hover {\n",
              "      background-color: #434B5C;\n",
              "      box-shadow: 0px 1px 3px 1px rgba(0, 0, 0, 0.15);\n",
              "      filter: drop-shadow(0px 1px 2px rgba(0, 0, 0, 0.3));\n",
              "      fill: #FFFFFF;\n",
              "    }\n",
              "  </style>\n",
              "\n",
              "    <script>\n",
              "      const buttonEl =\n",
              "        document.querySelector('#df-d3f101ef-499e-42f7-b84d-81a8618a036f button.colab-df-convert');\n",
              "      buttonEl.style.display =\n",
              "        google.colab.kernel.accessAllowed ? 'block' : 'none';\n",
              "\n",
              "      async function convertToInteractive(key) {\n",
              "        const element = document.querySelector('#df-d3f101ef-499e-42f7-b84d-81a8618a036f');\n",
              "        const dataTable =\n",
              "          await google.colab.kernel.invokeFunction('convertToInteractive',\n",
              "                                                    [key], {});\n",
              "        if (!dataTable) return;\n",
              "\n",
              "        const docLinkHtml = 'Like what you see? Visit the ' +\n",
              "          '<a target=\"_blank\" href=https://colab.research.google.com/notebooks/data_table.ipynb>data table notebook</a>'\n",
              "          + ' to learn more about interactive tables.';\n",
              "        element.innerHTML = '';\n",
              "        dataTable['output_type'] = 'display_data';\n",
              "        await google.colab.output.renderOutput(dataTable, element);\n",
              "        const docLink = document.createElement('div');\n",
              "        docLink.innerHTML = docLinkHtml;\n",
              "        element.appendChild(docLink);\n",
              "      }\n",
              "    </script>\n",
              "  </div>\n",
              "\n",
              "\n",
              "<div id=\"df-36999248-a298-4dcc-a184-95126c508129\">\n",
              "  <button class=\"colab-df-quickchart\" onclick=\"quickchart('df-36999248-a298-4dcc-a184-95126c508129')\"\n",
              "            title=\"Suggest charts\"\n",
              "            style=\"display:none;\">\n",
              "\n",
              "<svg xmlns=\"http://www.w3.org/2000/svg\" height=\"24px\"viewBox=\"0 0 24 24\"\n",
              "     width=\"24px\">\n",
              "    <g>\n",
              "        <path d=\"M19 3H5c-1.1 0-2 .9-2 2v14c0 1.1.9 2 2 2h14c1.1 0 2-.9 2-2V5c0-1.1-.9-2-2-2zM9 17H7v-7h2v7zm4 0h-2V7h2v10zm4 0h-2v-4h2v4z\"/>\n",
              "    </g>\n",
              "</svg>\n",
              "  </button>\n",
              "\n",
              "<style>\n",
              "  .colab-df-quickchart {\n",
              "      --bg-color: #E8F0FE;\n",
              "      --fill-color: #1967D2;\n",
              "      --hover-bg-color: #E2EBFA;\n",
              "      --hover-fill-color: #174EA6;\n",
              "      --disabled-fill-color: #AAA;\n",
              "      --disabled-bg-color: #DDD;\n",
              "  }\n",
              "\n",
              "  [theme=dark] .colab-df-quickchart {\n",
              "      --bg-color: #3B4455;\n",
              "      --fill-color: #D2E3FC;\n",
              "      --hover-bg-color: #434B5C;\n",
              "      --hover-fill-color: #FFFFFF;\n",
              "      --disabled-bg-color: #3B4455;\n",
              "      --disabled-fill-color: #666;\n",
              "  }\n",
              "\n",
              "  .colab-df-quickchart {\n",
              "    background-color: var(--bg-color);\n",
              "    border: none;\n",
              "    border-radius: 50%;\n",
              "    cursor: pointer;\n",
              "    display: none;\n",
              "    fill: var(--fill-color);\n",
              "    height: 32px;\n",
              "    padding: 0;\n",
              "    width: 32px;\n",
              "  }\n",
              "\n",
              "  .colab-df-quickchart:hover {\n",
              "    background-color: var(--hover-bg-color);\n",
              "    box-shadow: 0 1px 2px rgba(60, 64, 67, 0.3), 0 1px 3px 1px rgba(60, 64, 67, 0.15);\n",
              "    fill: var(--button-hover-fill-color);\n",
              "  }\n",
              "\n",
              "  .colab-df-quickchart-complete:disabled,\n",
              "  .colab-df-quickchart-complete:disabled:hover {\n",
              "    background-color: var(--disabled-bg-color);\n",
              "    fill: var(--disabled-fill-color);\n",
              "    box-shadow: none;\n",
              "  }\n",
              "\n",
              "  .colab-df-spinner {\n",
              "    border: 2px solid var(--fill-color);\n",
              "    border-color: transparent;\n",
              "    border-bottom-color: var(--fill-color);\n",
              "    animation:\n",
              "      spin 1s steps(1) infinite;\n",
              "  }\n",
              "\n",
              "  @keyframes spin {\n",
              "    0% {\n",
              "      border-color: transparent;\n",
              "      border-bottom-color: var(--fill-color);\n",
              "      border-left-color: var(--fill-color);\n",
              "    }\n",
              "    20% {\n",
              "      border-color: transparent;\n",
              "      border-left-color: var(--fill-color);\n",
              "      border-top-color: var(--fill-color);\n",
              "    }\n",
              "    30% {\n",
              "      border-color: transparent;\n",
              "      border-left-color: var(--fill-color);\n",
              "      border-top-color: var(--fill-color);\n",
              "      border-right-color: var(--fill-color);\n",
              "    }\n",
              "    40% {\n",
              "      border-color: transparent;\n",
              "      border-right-color: var(--fill-color);\n",
              "      border-top-color: var(--fill-color);\n",
              "    }\n",
              "    60% {\n",
              "      border-color: transparent;\n",
              "      border-right-color: var(--fill-color);\n",
              "    }\n",
              "    80% {\n",
              "      border-color: transparent;\n",
              "      border-right-color: var(--fill-color);\n",
              "      border-bottom-color: var(--fill-color);\n",
              "    }\n",
              "    90% {\n",
              "      border-color: transparent;\n",
              "      border-bottom-color: var(--fill-color);\n",
              "    }\n",
              "  }\n",
              "</style>\n",
              "\n",
              "  <script>\n",
              "    async function quickchart(key) {\n",
              "      const quickchartButtonEl =\n",
              "        document.querySelector('#' + key + ' button');\n",
              "      quickchartButtonEl.disabled = true;  // To prevent multiple clicks.\n",
              "      quickchartButtonEl.classList.add('colab-df-spinner');\n",
              "      try {\n",
              "        const charts = await google.colab.kernel.invokeFunction(\n",
              "            'suggestCharts', [key], {});\n",
              "      } catch (error) {\n",
              "        console.error('Error during call to suggestCharts:', error);\n",
              "      }\n",
              "      quickchartButtonEl.classList.remove('colab-df-spinner');\n",
              "      quickchartButtonEl.classList.add('colab-df-quickchart-complete');\n",
              "    }\n",
              "    (() => {\n",
              "      let quickchartButtonEl =\n",
              "        document.querySelector('#df-36999248-a298-4dcc-a184-95126c508129 button');\n",
              "      quickchartButtonEl.style.display =\n",
              "        google.colab.kernel.accessAllowed ? 'block' : 'none';\n",
              "    })();\n",
              "  </script>\n",
              "</div>\n",
              "\n",
              "    </div>\n",
              "  </div>\n"
            ],
            "application/vnd.google.colaboratory.intrinsic+json": {
              "type": "dataframe",
              "variable_name": "movies",
              "summary": "{\n  \"name\": \"movies\",\n  \"rows\": 979,\n  \"fields\": [\n    {\n      \"column\": \"star_rating\",\n      \"properties\": {\n        \"dtype\": \"number\",\n        \"std\": 0.336069326147959,\n        \"min\": 7.4,\n        \"max\": 9.3,\n        \"num_unique_values\": 20,\n        \"samples\": [\n          9.3,\n          7.6,\n          7.8\n        ],\n        \"semantic_type\": \"\",\n        \"description\": \"\"\n      }\n    },\n    {\n      \"column\": \"title\",\n      \"properties\": {\n        \"dtype\": \"string\",\n        \"num_unique_values\": 975,\n        \"samples\": [\n          \"No Country for Old Men\",\n          \"Of Mice and Men\",\n          \"Persona\"\n        ],\n        \"semantic_type\": \"\",\n        \"description\": \"\"\n      }\n    },\n    {\n      \"column\": \"content_rating\",\n      \"properties\": {\n        \"dtype\": \"category\",\n        \"num_unique_values\": 12,\n        \"samples\": [\n          \"GP\",\n          \"TV-MA\",\n          \"R\"\n        ],\n        \"semantic_type\": \"\",\n        \"description\": \"\"\n      }\n    },\n    {\n      \"column\": \"genre\",\n      \"properties\": {\n        \"dtype\": \"category\",\n        \"num_unique_values\": 16,\n        \"samples\": [\n          \"Crime\",\n          \"Action\",\n          \"Biography\"\n        ],\n        \"semantic_type\": \"\",\n        \"description\": \"\"\n      }\n    },\n    {\n      \"column\": \"duration\",\n      \"properties\": {\n        \"dtype\": \"number\",\n        \"std\": 26,\n        \"min\": 64,\n        \"max\": 242,\n        \"num_unique_values\": 133,\n        \"samples\": [\n          149,\n          91,\n          119\n        ],\n        \"semantic_type\": \"\",\n        \"description\": \"\"\n      }\n    },\n    {\n      \"column\": \"actors_list\",\n      \"properties\": {\n        \"dtype\": \"string\",\n        \"num_unique_values\": 969,\n        \"samples\": [\n          \"[u'Robert De Niro', u'Jerry Lewis', u'Diahnne Abbott']\",\n          \"[u'Wagner Moura', u'Andr\\\\xe9 Ramiro', u'Caio Junqueira']\",\n          \"[u'Ken Watanabe', u'Kazunari Ninomiya', u'Tsuyoshi Ihara']\"\n        ],\n        \"semantic_type\": \"\",\n        \"description\": \"\"\n      }\n    }\n  ]\n}"
            }
          },
          "metadata": {},
          "execution_count": 2
        }
      ],
      "source": [
        "movies = pd.read_csv('imdb.txt')\n",
        "movies.head()"
      ]
    },
    {
      "cell_type": "markdown",
      "metadata": {
        "id": "pPUZBeWgksyI"
      },
      "source": [
        "## What does the dataframe look like?\n",
        "\n",
        "`shape` gives the number of rows and columns."
      ]
    },
    {
      "cell_type": "code",
      "execution_count": 3,
      "metadata": {
        "colab": {
          "base_uri": "https://localhost:8080/",
          "height": 290
        },
        "id": "d0vpNR5uksyJ",
        "outputId": "cbd235a2-d4a0-40f8-dfcb-2002d0c75779"
      },
      "outputs": [
        {
          "output_type": "stream",
          "name": "stdout",
          "text": [
            "(979, 6)\n"
          ]
        },
        {
          "output_type": "execute_result",
          "data": {
            "text/plain": [
              "star_rating       float64\n",
              "title              object\n",
              "content_rating     object\n",
              "genre              object\n",
              "duration            int64\n",
              "actors_list        object\n",
              "dtype: object"
            ],
            "text/html": [
              "<div>\n",
              "<style scoped>\n",
              "    .dataframe tbody tr th:only-of-type {\n",
              "        vertical-align: middle;\n",
              "    }\n",
              "\n",
              "    .dataframe tbody tr th {\n",
              "        vertical-align: top;\n",
              "    }\n",
              "\n",
              "    .dataframe thead th {\n",
              "        text-align: right;\n",
              "    }\n",
              "</style>\n",
              "<table border=\"1\" class=\"dataframe\">\n",
              "  <thead>\n",
              "    <tr style=\"text-align: right;\">\n",
              "      <th></th>\n",
              "      <th>0</th>\n",
              "    </tr>\n",
              "  </thead>\n",
              "  <tbody>\n",
              "    <tr>\n",
              "      <th>star_rating</th>\n",
              "      <td>float64</td>\n",
              "    </tr>\n",
              "    <tr>\n",
              "      <th>title</th>\n",
              "      <td>object</td>\n",
              "    </tr>\n",
              "    <tr>\n",
              "      <th>content_rating</th>\n",
              "      <td>object</td>\n",
              "    </tr>\n",
              "    <tr>\n",
              "      <th>genre</th>\n",
              "      <td>object</td>\n",
              "    </tr>\n",
              "    <tr>\n",
              "      <th>duration</th>\n",
              "      <td>int64</td>\n",
              "    </tr>\n",
              "    <tr>\n",
              "      <th>actors_list</th>\n",
              "      <td>object</td>\n",
              "    </tr>\n",
              "  </tbody>\n",
              "</table>\n",
              "</div><br><label><b>dtype:</b> object</label>"
            ]
          },
          "metadata": {},
          "execution_count": 3
        }
      ],
      "source": [
        "# check the number of rows and columns\n",
        "print(movies.shape)\n",
        "# check the data type of each column\n",
        "movies.dtypes"
      ]
    },
    {
      "cell_type": "markdown",
      "metadata": {
        "id": "glyvPV1MksyK"
      },
      "source": [
        "Now we can use the `mean()` function on any of the numerical columns.  Calculate and print out the average `duration` and `star_rating`. I've provided some sample code."
      ]
    },
    {
      "cell_type": "code",
      "execution_count": 4,
      "metadata": {
        "id": "oeBR3GXbksyL"
      },
      "outputs": [],
      "source": [
        "avg_duration = movies['duration'].mean()\n",
        "star_rating = movies['star_rating'].mean()"
      ]
    },
    {
      "cell_type": "markdown",
      "metadata": {
        "id": "jPX1AEftksyL"
      },
      "source": [
        "We can select parts of the data in different ways. For example, we can look only at movies with a longer-than-average duration.\n",
        "\n",
        "Notice that we use the test  `movies['duration'] > avg_duration`  to select just the long ones."
      ]
    },
    {
      "cell_type": "code",
      "execution_count": 5,
      "metadata": {
        "colab": {
          "base_uri": "https://localhost:8080/"
        },
        "id": "LyL0PqnKksyM",
        "outputId": "bbe72827-b83f-4624-d154-fc56b4a24343"
      },
      "outputs": [
        {
          "output_type": "execute_result",
          "data": {
            "text/plain": [
              "7.953669724770642"
            ]
          },
          "metadata": {},
          "execution_count": 5
        }
      ],
      "source": [
        "long_movies = movies[movies['duration'] > avg_duration]\n",
        "\n",
        "#how do these movies rate?\n",
        "long_movies['star_rating'].mean()\n"
      ]
    },
    {
      "cell_type": "markdown",
      "metadata": {
        "id": "7PCaGwY2ksyN"
      },
      "source": [
        "## TASK\n",
        "\n",
        "Compare the mean rating of longer-than-average movies to the mean rating of shorter-than-average movies. In a comment, discuss whether longer movies get higher ratings."
      ]
    },
    {
      "cell_type": "code",
      "execution_count": 6,
      "metadata": {
        "colab": {
          "base_uri": "https://localhost:8080/"
        },
        "id": "BtIzQ6uCksyO",
        "outputId": "4f3d67f5-9508-48c7-a1a3-92cb6a9821fe"
      },
      "outputs": [
        {
          "output_type": "execute_result",
          "data": {
            "text/plain": [
              "7.838489871086555"
            ]
          },
          "metadata": {},
          "execution_count": 6
        }
      ],
      "source": [
        "short_movies = movies[movies['duration'] < avg_duration]\n",
        "short_movies['star_rating'].mean()"
      ]
    },
    {
      "cell_type": "markdown",
      "metadata": {
        "id": "n7UVaUxqksyO"
      },
      "source": [
        "## TASK\n",
        "\n",
        "Use regex to select movies that are sequels.  For simplicity, we will just look at movies with `Part` and/or `II` and/or `III` in the title. I'll get you started.\n",
        "\n",
        "In the last line, I show how to capture the ratings of just the movies that are sequels. Add these ratings to a list and call it `sequel_ratings`."
      ]
    },
    {
      "cell_type": "code",
      "execution_count": 7,
      "metadata": {
        "colab": {
          "base_uri": "https://localhost:8080/"
        },
        "id": "tCepO2cXksyO",
        "outputId": "882f7790-f5ae-4911-d54c-5f6ccd08720c"
      },
      "outputs": [
        {
          "output_type": "stream",
          "name": "stdout",
          "text": [
            "The Godfather: Part II\n",
            "rating is 9.1\n",
            "Harry Potter and the Deathly Hallows: Part 2\n",
            "rating is 8.1\n",
            "Evil Dead II\n",
            "rating is 7.8\n",
            "Back to the Future Part II\n",
            "rating is 7.8\n",
            "Star Trek II: The Wrath of Khan\n",
            "rating is 7.7\n",
            "Harry Potter and the Deathly Hallows: Part 1\n",
            "rating is 7.7\n",
            "Star Wars: Episode III - Revenge of the Sith\n",
            "rating is 7.7\n",
            "The Godfather: Part III\n",
            "rating is 7.6\n",
            "Menace II Society\n",
            "rating is 7.5\n",
            "Clerks II\n",
            "rating is 7.5\n",
            "Back to the Future Part III\n",
            "rating is 7.4\n"
          ]
        }
      ],
      "source": [
        "\n",
        "title_series = movies['title']\n",
        "sequel_ratings = []\n",
        "for title in title_series:\n",
        "    if re.search('(Part\\s|II|III)',title):   #this regex isnt' quite right. Fix it!\n",
        "        print(title)\n",
        "        idx = movies[movies['title']==title].index[0]  #index of the sequel\n",
        "        print(\"rating is\", movies['star_rating'][idx])  #add each rating to a list\n",
        "        sequel_ratings.append(movies['star_rating'][idx])"
      ]
    },
    {
      "cell_type": "markdown",
      "metadata": {
        "id": "vUB_OQMNksyP"
      },
      "source": [
        "Clearly, there is a problem here. The movie `The Party` should not be included. Modify the regex search to exclude names like Party, but keep anything with Part. Also grab anything with a II or III.\n",
        "\n",
        "Once you see only sequels, and you are getting `Evil Dead II` and other titles with II/III in it, you are ready to calculate the average rating.  Using your list `sequel_ratings`, compute the average rating.  How do the ratings compare to the average rating for the entire dataset?  "
      ]
    },
    {
      "cell_type": "code",
      "source": [
        "np.average(sequel_ratings)"
      ],
      "metadata": {
        "colab": {
          "base_uri": "https://localhost:8080/"
        },
        "id": "SD5_OJrtmc3V",
        "outputId": "2dc63ea6-e2f3-4ae6-80e2-9ce32e78eb32"
      },
      "execution_count": 8,
      "outputs": [
        {
          "output_type": "execute_result",
          "data": {
            "text/plain": [
              "7.8090909090909095"
            ]
          },
          "metadata": {},
          "execution_count": 8
        }
      ]
    },
    {
      "cell_type": "code",
      "source": [
        "np.average(movies[\"star_rating\"])"
      ],
      "metadata": {
        "colab": {
          "base_uri": "https://localhost:8080/"
        },
        "id": "2gHHp0dP3-V0",
        "outputId": "733f5295-729d-4b08-96b7-697ae6c9e0d3"
      },
      "execution_count": 25,
      "outputs": [
        {
          "output_type": "execute_result",
          "data": {
            "text/plain": [
              "7.889785495403474"
            ]
          },
          "metadata": {},
          "execution_count": 25
        }
      ]
    },
    {
      "cell_type": "markdown",
      "source": [
        "The average for the entire dataset is slightly higher at 7.89 compared to the sequels at 7.81."
      ],
      "metadata": {
        "id": "kIr3DD5N31Lf"
      }
    },
    {
      "cell_type": "markdown",
      "metadata": {
        "id": "_Nyy1OE7ksyP"
      },
      "source": [
        "## TASK - if you have time\n",
        "\n",
        "Experiment with improving the regex selection to include other ways to indicate that a movie is a sequel. Can you collect other sequels without mistakenly capturing movies that are not sequels?\n"
      ]
    },
    {
      "cell_type": "code",
      "execution_count": 9,
      "metadata": {
        "colab": {
          "base_uri": "https://localhost:8080/"
        },
        "id": "nqnczlBfksyP",
        "outputId": "41e99db6-4b1b-4fe5-f483-5060bccdca28"
      },
      "outputs": [
        {
          "output_type": "stream",
          "name": "stdout",
          "text": [
            "The Godfather: Part II\n",
            "rating is 9.1\n",
            "Terminator 2: Judgment Day\n",
            "rating is 8.5\n",
            "Toy Story 3\n",
            "rating is 8.4\n",
            "Harry Potter and the Deathly Hallows: Part 2\n",
            "rating is 8.1\n",
            "Stalag 17\n",
            "rating is 8.1\n",
            "The Raid 2\n",
            "rating is 8.1\n",
            "Furious 7\n",
            "rating is 8.0\n",
            "Short Term 12\n",
            "rating is 8.0\n",
            "District 9\n",
            "rating is 8.0\n",
            "Kill Bill: Vol. 2\n",
            "rating is 8.0\n",
            "How to Train Your Dragon 2\n",
            "rating is 8.0\n",
            "Big Hero 6\n",
            "rating is 7.9\n",
            "Toy Story 2\n",
            "rating is 7.9\n",
            "Evil Dead II\n",
            "rating is 7.8\n",
            "Back to the Future Part II\n",
            "rating is 7.8\n",
            "Star Trek II: The Wrath of Khan\n",
            "rating is 7.7\n",
            "United 93\n",
            "rating is 7.6\n",
            "The Godfather: Part III\n",
            "rating is 7.6\n",
            "Mad Max 2: The Road Warrior\n",
            "rating is 7.6\n",
            "Apollo 13\n",
            "rating is 7.6\n",
            "Ip Man 2\n",
            "rating is 7.6\n",
            "Despicable Me 2\n",
            "rating is 7.5\n",
            "Clerks II\n",
            "rating is 7.5\n",
            "Back to the Future Part III\n",
            "rating is 7.4\n"
          ]
        }
      ],
      "source": [
        "for title in title_series:\n",
        "    if re.search('(Part\\s|II|III|\\s[2-9]|\\s[0-9]{2})(:|$)',title):   # SAMPLE CODE - please improve\n",
        "        print(title)\n",
        "        idx = movies[movies['title']==title].index[0]  #index of the sequel\n",
        "        print(\"rating is\", movies['star_rating'][idx])\n",
        "        sequel_ratings.append(movies['star_rating'][idx])  #add each rating to a list\n"
      ]
    },
    {
      "cell_type": "markdown",
      "source": [
        "Question: how does the number of movies in different genres compare?"
      ],
      "metadata": {
        "id": "QfYAHTL2qkuw"
      }
    },
    {
      "cell_type": "code",
      "source": [
        "def ascii_histogram(seq) -> None: #create a histogram from a list of numbers\n",
        "  counted = count_elements(seq) #generate frequency table (dictionary)\n",
        "  for key in sorted(counted):\n",
        "    plus_str = counted[key]\n",
        "    print(f'{key}: {plus_str}') #prints out asterisk\n",
        "\n",
        "def count_elements(seq): #creates a dictionary\n",
        "  hist = dict()\n",
        "  for date in seq:\n",
        "    hist[date]=hist.get(date,0)+ 1\n",
        "  return hist\n",
        "\n",
        "genres = []\n",
        "for item in movies[\"genre\"]:\n",
        "  genres.append(item)\n",
        "\n",
        "#len(genres)\n",
        "ascii_histogram(genres)\n",
        "d = count_elements(genres)\n",
        "n_bins = 8\n",
        "fig, ax = plt.subplots()\n",
        "ax.barh(list(d.keys()), list(d.values()))\n",
        "ax.set(xlabel=\"Quantity\",ylabel=\"Genres\", title=\"Quantity of Genres\")\n",
        "plt.show()"
      ],
      "metadata": {
        "colab": {
          "base_uri": "https://localhost:8080/",
          "height": 750
        },
        "id": "rYNrQCVSp7vz",
        "outputId": "dfe74145-8d5a-4a5d-8cb8-6387226bc194"
      },
      "execution_count": 24,
      "outputs": [
        {
          "output_type": "stream",
          "name": "stdout",
          "text": [
            "Action: 136\n",
            "Adventure: 75\n",
            "Animation: 62\n",
            "Biography: 77\n",
            "Comedy: 156\n",
            "Crime: 124\n",
            "Drama: 278\n",
            "Family: 2\n",
            "Fantasy: 1\n",
            "Film-Noir: 3\n",
            "History: 1\n",
            "Horror: 29\n",
            "Mystery: 16\n",
            "Sci-Fi: 5\n",
            "Thriller: 5\n",
            "Western: 9\n"
          ]
        },
        {
          "output_type": "display_data",
          "data": {
            "text/plain": [
              "<Figure size 640x480 with 1 Axes>"
            ],
            "image/png": "[encoded data removed]"
          },
          "metadata": {}
        }
      ]
    },
    {
      "cell_type": "code",
      "source": [],
      "metadata": {
        "id": "O1gapJLNsqTm"
      },
      "execution_count": null,
      "outputs": []
    }
  ],
  "metadata": {
    "kernelspec": {
      "display_name": "Python 3",
      "language": "python",
      "name": "python3"
    },
    "language_info": {
      "codemirror_mode": {
        "name": "ipython",
        "version": 3
      },
      "file_extension": ".py",
      "mimetype": "text/x-python",
      "name": "python",
      "nbconvert_exporter": "python",
      "pygments_lexer": "ipython3",
      "version": "3.10.4"
    },
    "orig_nbformat": 4,
    "colab": {
      "provenance": [],
      "include_colab_link": true
    }
  },
  "nbformat": 4,
  "nbformat_minor": 0
}